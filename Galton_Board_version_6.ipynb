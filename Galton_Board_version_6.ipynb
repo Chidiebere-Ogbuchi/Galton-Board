{
  "nbformat": 4,
  "nbformat_minor": 0,
  "metadata": {
    "colab": {
      "provenance": []
    },
    "kernelspec": {
      "name": "python3",
      "display_name": "Python 3"
    },
    "language_info": {
      "name": "python"
    }
  },
  "cells": [
    {
      "cell_type": "markdown",
      "source": [
        "### GALTON BOARD"
      ],
      "metadata": {
        "id": "C0YcWmZ1AviS"
      }
    },
    {
      "cell_type": "markdown",
      "source": [
        "**Galton's Board Simulation**\n",
        "This Python program simulates the behavior of balls falling through a Galton's Board, also known as a \"bean machine\" or \"Plinko board.\" Galton's Board is a physical device that demonstrates the central limit theorem in statistics.\n",
        "\n",
        "In this simulation, balls are dropped from the top of the board and bounce randomly left or right at each peg until they reach the bottom, where they are collected in bins. Over time, as more balls are dropped, the distribution of balls in the bins approaches a bell-shaped curve, illustrating the central limit theorem.\n",
        "\n",
        "\n",
        "***Getting Started***\n",
        "Installation: This program requires Python 3 and the following libraries: random, matplotlib. If you haven't already, you can install matplotlib using pip:\n",
        "\n",
        "pip install matplotlib\n",
        "\n",
        "Custom Layout: You can modify the layout of the Galton board by changing the custom_layout variable in the code. Ensure that the first row has only a single peg, which serves as the entry point for the balls.\n",
        "\n",
        "Example custom layout:\n",
        "\n",
        "***custom_layout***= [\n",
        "    [0, 0, 0, 0, 0, **X**, 0, 0, 0, 0, 0],\n",
        "    [0, 1, 0, 0, 0, 0, 1, 0, 0, 0, 0],\n",
        "    [# ...],\n",
        "]\n",
        "\n",
        "\n",
        "Run the Simulation: Execute the code in your Python environment. When prompted, enter the number of balls you want to simulate.\n",
        "\n",
        "View Results: The program will display the results in two ways:\n",
        "\n",
        "As a bell curve (probability distribution) using a histogram.\n",
        "As a visual representation of the number of balls in each bin (dots).\n",
        "Code Structure\n",
        "standard_galton(peg_layout, b): Simulates the movement of balls through the Galton board.\n",
        "print_graph(dataset, as_bell_curve=False): Displays the simulation results graphically.\n",
        "Example usage and custom layout are provided in the code.\n",
        "\n",
        "#### DISCLAIMER: Code may not depict the actual outcome of a Galton board as it doesn't consider other factors like size, vibration etc."
      ],
      "metadata": {
        "id": "bnm7N8pMDJSD"
      }
    },
    {
      "cell_type": "code",
      "source": [
        "##RUN FIRST\n",
        "import random\n",
        "import matplotlib.pyplot as plt\n",
        "\n",
        "\n",
        "def generate_layout_with_preference(num_columns, num_rows, x_position):\n",
        "    # Function to generate a layout with user preference for the position of 'X'\n",
        "    symbols = [0, 1]\n",
        "\n",
        "    # Create the first row with zeros and set 'X' at the specified position\n",
        "    first_row = [0] * num_columns\n",
        "    first_row[x_position - 1] = 'X'\n",
        "\n",
        "    # Create the rest of the layout with mixed symbols\n",
        "    generated_layout = [first_row] + [[random.choice(symbols) for _ in range(num_columns)] for _ in range(num_rows - 1)]\n",
        "\n",
        "    return generated_layout\n",
        "\n",
        "\n",
        "\n",
        "def transform_layout(layout, x_value):\n",
        "    # Function to transform the layout, adding base and modifying values\n",
        "    rows = len(layout)\n",
        "    cols = len(layout[0])\n",
        "\n",
        "    # Generate the base dynamically based on the number of columns\n",
        "    base = [1 if i % 2 == 0 else 0 for i in range(cols)]\n",
        "\n",
        "    # Add the base to the layout\n",
        "    layout.append(base)\n",
        "\n",
        "    # Create a new layout with additional columns on the left and right\n",
        "    new_layout = [[2] + row + [2] for row in layout]\n",
        "\n",
        "    # Add additional row at the bottom\n",
        "    new_layout.append([2] * (cols + 2))\n",
        "\n",
        "    # Modify values at [0][0] and [0][-1]\n",
        "    new_layout[0][0] = 0\n",
        "    new_layout[0][-1] = 0\n",
        "\n",
        "    # Replace 'X' with the user input value\n",
        "    for row in new_layout:\n",
        "        for i in range(len(row)):\n",
        "            if row[i] == 'X':\n",
        "                row[i] = x_value\n",
        "\n",
        "    print('Layout of Galton board')\n",
        "    for row in new_layout:\n",
        "      print(row)\n",
        "\n",
        "    return new_layout\n",
        "\n",
        "def find_entry_point(layout):\n",
        "    # Function to find the entry point in the layout\n",
        "    for col in range(len(layout[0])):\n",
        "        if layout[0][col] > 0:\n",
        "            return col\n",
        "    return None\n",
        "\n",
        "def simulate_galton_board(layout):\n",
        "    # Function to simulate the Galton board and calculate the distribution\n",
        "    rows = len(layout)\n",
        "    cols = len(layout[0])\n",
        "\n",
        "    entry_point = find_entry_point(layout)\n",
        "    if entry_point is None:\n",
        "        print(\"No entry point found.\")\n",
        "        return\n",
        "\n",
        "    ball_matrix = [[0] * cols for _ in range(rows)]\n",
        "    ball_matrix[0][entry_point] = layout[0][entry_point]\n",
        "\n",
        "    for i in range(1, rows):\n",
        "        for j in range(cols):\n",
        "            for ball in range(ball_matrix[i - 1][j]):\n",
        "                if layout[i - 1][j] == 1:\n",
        "                    random_percentage = random.uniform(0, 1)\n",
        "                    left_diagonal = j - 1 if j - 1 >= 0 else 0\n",
        "                    right_diagonal = j + 1 if j + 1 < cols else j\n",
        "\n",
        "                    if left_diagonal == 0 and layout[i - 1][j] == 1:\n",
        "                        ball_matrix[i][right_diagonal] += 1\n",
        "                    elif right_diagonal == cols - 1 and layout[i - 1][j] == 1:\n",
        "                        ball_matrix[i][left_diagonal] += 1\n",
        "                    else:\n",
        "                        ball_matrix[i][left_diagonal] += 1 if random_percentage < 0.5 else 0\n",
        "                        ball_matrix[i][right_diagonal] += 1 if random_percentage >= 0.5 else 0\n",
        "                else:\n",
        "                    ball_matrix[i][j] += 1\n",
        "\n",
        "    return ball_matrix\n",
        "\n",
        "def print_galton_board(matrix):\n",
        "    # Function to print the Galton board matrix\n",
        "    matrix = [row[1:-1] for row in matrix[1:]]\n",
        "    for row in matrix:\n",
        "        print(row)\n",
        "\n",
        "def plot_galton_board(layout):\n",
        "    # Function to plot the distribution from the Galton board simulation\n",
        "    final_matrix = simulate_galton_board(layout)\n",
        "    last_row = final_matrix[-1]\n",
        "    data_to_plot = [value for index, value in enumerate(last_row[1:-1]) if index % 2 == 1]\n",
        "\n",
        "    plt.bar(range(len(data_to_plot)), data_to_plot, color='blue', alpha=0.7, align='edge', width=1.0)\n",
        "    plt.xlabel('Column')\n",
        "    plt.ylabel('Number of Balls')\n",
        "    plt.title('Distribution')\n",
        "    plt.show()\n",
        "\n",
        "    print_dot_curve(data_to_plot)\n",
        "\n",
        "def print_dot_curve(dataset):\n",
        "    # Function to print a dot curve representation of the distribution\n",
        "    print(\"\\n\")\n",
        "    print('Dots to shows Ball distribution')\n",
        "    for val in dataset:\n",
        "        for _ in range(val):\n",
        "            print('.', end='')\n",
        "        print(val)"
      ],
      "metadata": {
        "id": "-vaFnhrZv09i"
      },
      "execution_count": 1,
      "outputs": []
    },
    {
      "cell_type": "code",
      "source": [],
      "metadata": {
        "id": "RRG0mcip2vIf"
      },
      "execution_count": 1,
      "outputs": []
    },
    {
      "cell_type": "markdown",
      "source": [
        "### **Custom Layout**\n",
        "If you choose to use a custom layout, you can modify the custom_layout list in the script. Each sublist represents a row in the Galton Board, and 'X' represents the starting point of the ball.\n",
        "\n",
        "**custom_layout** = [\n",
        "    [0, 0, 0, 0, 0, 0, 0, 'X', 0, 0],\n",
        "    ... (other rows)\n",
        "]\n",
        "\n",
        "## ***Edit Layout Below***"
      ],
      "metadata": {
        "id": "TWoRaabV0IKy"
      }
    },
    {
      "cell_type": "code",
      "source": [
        "#Point X is the Entry point\n",
        "## Thus simulation starts from second row.\n",
        "## Only indicate point of Entry X in the first Row and others can be change\n",
        "Edit_layout =[\n",
        "        [0, 0, 0, 0, 0, 0, 0, 'X', 0, 0],\n",
        "        [1, 0, 1, 0, 0, 1, 1, 1, 1, 1],\n",
        "        [1, 1, 1, 1, 1, 1, 1, 1, 0, 1],\n",
        "        [0, 1, 1, 0, 0, 1, 1, 1, 1, 0],\n",
        "        [1, 0, 0, 1, 1, 1, 1, 1, 0, 1],\n",
        "        [0, 0, 1, 1, 1, 0, 1, 0, 1, 1],\n",
        "        [0, 1, 0, 0, 0, 0, 0, 1, 0, 1],\n",
        "        [1, 1, 0, 0, 1, 0, 0, 0, 0, 0],\n",
        "        [1, 1, 0, 1, 1, 1, 0, 1, 0, 1],\n",
        "        [1, 1, 1, 1, 1, 1, 0, 1, 0, 0],\n",
        "    ]"
      ],
      "metadata": {
        "id": "bbZHCUcezW4T"
      },
      "execution_count": 2,
      "outputs": []
    },
    {
      "cell_type": "code",
      "source": [],
      "metadata": {
        "id": "ElJW9zEN28GE"
      },
      "execution_count": 2,
      "outputs": []
    },
    {
      "cell_type": "markdown",
      "source": [
        "**#### ASK USER CHOICE.**\n",
        "\n",
        "**Generated:** layout is automatically generated.\n",
        "\n",
        "**Custom:** You can Edit and make layout of your choice."
      ],
      "metadata": {
        "id": "6vCr8RO12VYD"
      }
    },
    {
      "cell_type": "code",
      "source": [
        "##RUN NEXT\n",
        "# Ask the user if they want to generate a layout or use a custom one\n",
        "generate_layout_option = input(\"Do you want to generate a layout? (Y/N): \").lower()"
      ],
      "metadata": {
        "colab": {
          "base_uri": "https://localhost:8080/"
        },
        "id": "O6FAu_u22REL",
        "outputId": "7444c5ae-56a7-4a37-fe9e-2004c558cab7"
      },
      "execution_count": 6,
      "outputs": [
        {
          "name": "stdout",
          "output_type": "stream",
          "text": [
            "Do you want to generate a layout? (Y/N): n\n"
          ]
        }
      ]
    },
    {
      "cell_type": "code",
      "source": [
        "## RUN NEXT\n",
        "if generate_layout_option == 'y':\n",
        "    num_columns = int(input(\"Enter the number of columns: \"))\n",
        "    num_rows = int(input(\"Enter the number of rows: \"))\n",
        "\n",
        "    # Initialize a counter for the number of invalid inputs\n",
        "    invalid_input_count = 0\n",
        "\n",
        "    while True:\n",
        "        user_input = input(f\"Skip or Enter the position of 'X' in the first row (1 to {num_columns}): \")\n",
        "\n",
        "        if user_input:\n",
        "            x_position = int(user_input)\n",
        "            if 1 <= x_position <= num_columns:\n",
        "                break  # Break the loop if the input is valid\n",
        "            else:\n",
        "                print(\"Invalid input. Please enter a position within the valid range.\")\n",
        "                invalid_input_count += 1\n",
        "        else:\n",
        "            x_position = random.randint(1, num_columns)\n",
        "            break  # Break the loop if a random position is generated\n",
        "\n",
        "        if invalid_input_count > 1:\n",
        "            print(\"Input exceeded more than twice. The position of 'X' will be randomly generated.\")\n",
        "            x_position = random.randint(1, num_columns)\n",
        "            break  # Break the loop if more than two invalid inputs\n",
        "\n",
        "    layout = generate_layout_with_preference(num_columns, num_rows, x_position)\n",
        "\n",
        "else:\n",
        "    custom_layout = Edit_layout  # Assuming Edit_layout is your custom layout variable\n",
        "    # x_position = random.randint(1, len(custom_layout[0]))  # Randomly select position for 'X'\n",
        "    layout = custom_layout\n"
      ],
      "metadata": {
        "id": "CZxYlEH-xaqI"
      },
      "execution_count": 7,
      "outputs": []
    },
    {
      "cell_type": "code",
      "source": [
        "## RUN Next\n",
        "user_input = int(input(\"Enter number of balls 'X': \"))\n",
        "new_layout = transform_layout(layout, user_input)\n",
        "print(\"\\n\")\n",
        "plot_galton_board(new_layout)\n",
        "print(\"\\n\")\n",
        "print('Position at each step')\n",
        "print_galton_board(simulate_galton_board(new_layout))"
      ],
      "metadata": {
        "colab": {
          "base_uri": "https://localhost:8080/",
          "height": 1000
        },
        "id": "W6tb7vf5zKjU",
        "outputId": "4a1382ef-dd5a-4771-dae2-efbcb605c492"
      },
      "execution_count": 8,
      "outputs": [
        {
          "output_type": "stream",
          "name": "stdout",
          "text": [
            "Enter number of balls 'X': 1000\n",
            "Layout of Galton board\n",
            "[0, 0, 0, 0, 0, 0, 0, 0, 1000, 0, 0, 0]\n",
            "[2, 1, 0, 1, 0, 0, 1, 1, 1, 1, 1, 2]\n",
            "[2, 1, 1, 1, 1, 1, 1, 1, 1, 0, 1, 2]\n",
            "[2, 0, 1, 1, 0, 0, 1, 1, 1, 1, 0, 2]\n",
            "[2, 1, 0, 0, 1, 1, 1, 1, 1, 0, 1, 2]\n",
            "[2, 0, 0, 1, 1, 1, 0, 1, 0, 1, 1, 2]\n",
            "[2, 0, 1, 0, 0, 0, 0, 0, 1, 0, 1, 2]\n",
            "[2, 1, 1, 0, 0, 1, 0, 0, 0, 0, 0, 2]\n",
            "[2, 1, 1, 0, 1, 1, 1, 0, 1, 0, 1, 2]\n",
            "[2, 1, 1, 1, 1, 1, 1, 0, 1, 0, 0, 2]\n",
            "[2, 1, 0, 1, 0, 1, 0, 1, 0, 1, 0, 2]\n",
            "[2, 2, 2, 2, 2, 2, 2, 2, 2, 2, 2, 2]\n",
            "\n",
            "\n"
          ]
        },
        {
          "output_type": "display_data",
          "data": {
            "text/plain": [
              "<Figure size 640x480 with 1 Axes>"
            ],
            "image/png": "[encoded data removed]"
          },
          "metadata": {}
        },
        {
          "output_type": "stream",
          "name": "stdout",
          "text": [
            "\n",
            "\n",
            "Dots to shows Ball distribution\n",
            "...........................27\n",
            "......................................................................................86\n",
            "..........................................................................................................................................................................................................................................234\n",
            "................................................................................................................................................................................................................................................................................................................................................................................................................................416\n",
            ".............................................................................................................................................................................................................................................237\n",
            "\n",
            "\n",
            "Position at each step\n",
            "[0, 0, 0, 0, 0, 0, 0, 1000, 0, 0]\n",
            "[0, 0, 0, 0, 0, 0, 487, 0, 513, 0]\n",
            "[0, 0, 0, 0, 0, 231, 0, 256, 513, 0]\n",
            "[0, 0, 0, 0, 112, 0, 254, 269, 121, 244]\n",
            "[0, 0, 0, 51, 0, 187, 131, 128, 503, 0]\n",
            "[0, 0, 28, 0, 23, 258, 0, 422, 0, 269]\n",
            "[0, 0, 28, 0, 23, 258, 207, 0, 484, 0]\n",
            "[0, 0, 28, 11, 0, 270, 207, 0, 484, 0]\n",
            "[0, 0, 31, 0, 142, 0, 343, 0, 484, 0]\n",
            "[0, 14, 0, 93, 0, 66, 343, 0, 484, 0]\n",
            "[0, 14, 0, 93, 0, 243, 0, 404, 0, 246]\n"
          ]
        }
      ]
    },
    {
      "cell_type": "code",
      "source": [],
      "metadata": {
        "id": "6kijCxXr-DLX"
      },
      "execution_count": 5,
      "outputs": []
    }
  ]
}